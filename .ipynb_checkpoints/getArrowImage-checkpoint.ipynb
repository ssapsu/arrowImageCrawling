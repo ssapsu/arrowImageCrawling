{
 "cells": [
  {
   "cell_type": "code",
   "execution_count": 1,
   "id": "exposed-stuart",
   "metadata": {},
   "outputs": [],
   "source": [
    "from selenium import webdriver\n",
    "from bs4 import BeautifulSoup as soups"
   ]
  },
  {
   "cell_type": "code",
   "execution_count": 6,
   "id": "technical-andrew",
   "metadata": {},
   "outputs": [],
   "source": [
    "from selenium.webdriver.common.keys import Keys\n",
    "import time\n",
    "import os\n",
    "from urllib.request import urlretrieve\n",
    "from tqdm import tqdm"
   ]
  },
  {
   "cell_type": "code",
   "execution_count": 25,
   "id": "completed-tourist",
   "metadata": {
    "scrolled": true
   },
   "outputs": [
    {
     "name": "stdout",
     "output_type": "stream",
     "text": [
      "검색하고 싶은 키워드 : left arrow jpg\n",
      "원하는 이미지 수집 개수 : 10000\n",
      "left arrow 이미지 크롤링\n",
      "로드된 이미지 개수 :  50\n"
     ]
    }
   ],
   "source": [
    "\tdef search_selenium(search_name, search_path, search_limit) :\n",
    "        \n",
    "        print(f'{keyword} 이미지 크롤링')\n",
    "    \n",
    "        #본인 컴퓨터의 크롬, 혹은 인터넷 브라우져 파일명, 파일 위치 확인할 것\n",
    "        #크롬 드라이버 설치\n",
    "        driver=webdriver.Chrome('/usr/local/bin/chromedriver')\n",
    "        driver.implicitly_wait(30)\n",
    "    \n",
    "        url = f\"https://www.google.com/search?q=%22{search_name}&hl=ko&sxsrf=ALeKk03FLzrnFl4RYEfO77FKlF2LyPhmqA:1613823610370&source=lnms&tbm=isch&sa=X&ved=2ahUKEwjztZq4ufjuAhWDBIgKHe0cAp0Q_AUoAXoECBgQAw&biw=2048&bih=1010\"\n",
    "        driver.get(url)\n",
    "        \n",
    "        image_count = len(driver.find_elements_by_tag_name(\"img\"))\n",
    "    \n",
    "        print(\"로드된 이미지 개수 : \", image_count)\n",
    "    \n",
    "        driver.implicitly_wait(2)\n",
    "    \n",
    "        for i in range( search_limit ) :\n",
    "            image = driver.find_elements_by_tag_name(\"img\")[i]\n",
    "            image.screenshot(\"/Users/ohyeonsu/Desktop/image/left arrow/\" + str(i) + \".png\")\n",
    "    \n",
    "        driver.close()\n",
    "    \n",
    "if __name__ == \"__main__\" :\n",
    " \n",
    "    search_name = input(\"검색하고 싶은 키워드 : \")\n",
    "    search_limit = int(input(\"원하는 이미지 수집 개수 : \"))\n",
    "    search_path = \"Your Path\"\n",
    "    # search_maybe(search_name, search_limit, search_path)\n",
    "    search_selenium(search_name, search_path, search_limit)"
   ]
  },
  {
   "cell_type": "code",
   "execution_count": null,
   "id": "dressed-effectiveness",
   "metadata": {},
   "outputs": [],
   "source": []
  },
  {
   "cell_type": "code",
   "execution_count": null,
   "id": "vietnamese-minute",
   "metadata": {},
   "outputs": [],
   "source": []
  }
 ],
 "metadata": {
  "kernelspec": {
   "display_name": "Python 3",
   "language": "python",
   "name": "python3"
  },
  "language_info": {
   "codemirror_mode": {
    "name": "ipython",
    "version": 3
   },
   "file_extension": ".py",
   "mimetype": "text/x-python",
   "name": "python",
   "nbconvert_exporter": "python",
   "pygments_lexer": "ipython3",
   "version": "3.6.12"
  }
 },
 "nbformat": 4,
 "nbformat_minor": 5
}
